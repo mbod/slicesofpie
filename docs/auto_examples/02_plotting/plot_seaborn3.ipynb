{
  "nbformat_minor": 0, 
  "nbformat": 4, 
  "cells": [
    {
      "execution_count": null, 
      "cell_type": "code", 
      "source": [
        "%matplotlib inline"
      ], 
      "outputs": [], 
      "metadata": {
        "collapsed": false
      }
    }, 
    {
      "source": [
        "\nAnother plotting example\n========================\n\n* this is what this is for (Ralf: Make a plot and learn\u2026.)\n\n\n"
      ], 
      "cell_type": "markdown", 
      "metadata": {}
    }, 
    {
      "execution_count": null, 
      "cell_type": "code", 
      "source": [
        "import numpy as np\nimport seaborn as sns\nimport matplotlib.pyplot as plt\nsns.set(style=\"white\", context=\"talk\")\nrs = np.random.RandomState(7)\n\n\n# Set up the matplotlib figure\nf, (ax1, ax2, ax3) = plt.subplots(3, 1, figsize=(8, 6), sharex=True)\n\n# Generate some sequential data\nx = np.array(list(\"ABCDEFGHI\"))\ny1 = np.arange(1, 10)\nsns.barplot(x, y1, palette=\"BuGn_d\", ax=ax1)\nax1.set_ylabel(\"Sequential\")\n\n# Center the data to make it diverging\ny2 = y1 - 5\nsns.barplot(x, y2, palette=\"RdBu_r\", ax=ax2)\nax2.set_ylabel(\"Diverging\")\n\n# Randomly reorder the data to make it qualitative\ny3 = rs.choice(y1, 9, replace=False)\nsns.barplot(x, y3, palette=\"Set3\", ax=ax3)\nax3.set_ylabel(\"Qualitative\")\n\n# Finalize the plot\nsns.despine(bottom=True)\nplt.setp(f.axes, yticks=[])\nplt.tight_layout(h_pad=3)"
      ], 
      "outputs": [], 
      "metadata": {
        "collapsed": false
      }
    }
  ], 
  "metadata": {
    "kernelspec": {
      "display_name": "Python 2", 
      "name": "python2", 
      "language": "python"
    }, 
    "language_info": {
      "mimetype": "text/x-python", 
      "nbconvert_exporter": "python", 
      "name": "python", 
      "file_extension": ".py", 
      "version": "2.7.12", 
      "pygments_lexer": "ipython2", 
      "codemirror_mode": {
        "version": 2, 
        "name": "ipython"
      }
    }
  }
}