{
  "nbformat": 4,
  "nbformat_minor": 0,
  "metadata": {
    "language_info": {
      "codemirror_mode": {
        "version": 3,
        "name": "ipython"
      },
      "mimetype": "text/x-python",
      "name": "python",
      "file_extension": ".py",
      "pygments_lexer": "ipython3",
      "version": "3.4.4",
      "nbconvert_exporter": "python"
    },
    "kernelspec": {
      "display_name": "Python 3",
      "name": "python3",
      "language": "python"
    }
  },
  "cells": [
    {
      "cell_type": "code",
      "outputs": [],
      "execution_count": null,
      "metadata": {
        "collapsed": false
      },
      "source": [
        "%matplotlib inline"
      ]
    },
    {
      "cell_type": "markdown",
      "source": [
        "\nAnother plotting example\n========================\n\n* this is what this is for\n\n\n"
      ],
      "metadata": {}
    },
    {
      "cell_type": "code",
      "outputs": [],
      "execution_count": null,
      "metadata": {
        "collapsed": false
      },
      "source": [
        "import numpy as np\nimport seaborn as sns\nimport matplotlib.pyplot as plt\nsns.set(style=\"white\", context=\"talk\")\nrs = np.random.RandomState(7)\n\n\n# Set up the matplotlib figure\nf, (ax1, ax2, ax3) = plt.subplots(3, 1, figsize=(8, 6), sharex=True)\n\n# Generate some sequential data\nx = np.array(list(\"ABCDEFGHI\"))\ny1 = np.arange(1, 10)\nsns.barplot(x, y1, palette=\"BuGn_d\", ax=ax1)\nax1.set_ylabel(\"Sequential\")\n\n# Center the data to make it diverging\ny2 = y1 - 5\nsns.barplot(x, y2, palette=\"RdBu_r\", ax=ax2)\nax2.set_ylabel(\"Diverging\")\n\n# Randomly reorder the data to make it qualitative\ny3 = rs.choice(y1, 9, replace=False)\nsns.barplot(x, y3, palette=\"Set3\", ax=ax3)\nax3.set_ylabel(\"Qualitative\")\n\n# Finalize the plot\nsns.despine(bottom=True)\nplt.setp(f.axes, yticks=[])\nplt.tight_layout(h_pad=3)"
      ]
    }
  ]
}