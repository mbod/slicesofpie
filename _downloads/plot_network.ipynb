{
  "nbformat_minor": 0,
  "metadata": {
    "language_info": {
      "mimetype": "text/x-python",
      "pygments_lexer": "ipython3",
      "codemirror_mode": {
        "version": 3,
        "name": "ipython"
      },
      "version": "3.4.4",
      "nbconvert_exporter": "python",
      "file_extension": ".py",
      "name": "python"
    },
    "kernelspec": {
      "name": "python3",
      "language": "python",
      "display_name": "Python 3"
    }
  },
  "nbformat": 4,
  "cells": [
    {
      "source": [
        "%matplotlib inline"
      ],
      "metadata": {
        "collapsed": false
      },
      "outputs": [],
      "cell_type": "code",
      "execution_count": null
    },
    {
      "source": [
        "\nBasic network using networkx\n============================\n\n\n\n"
      ],
      "cell_type": "markdown",
      "metadata": {}
    },
    {
      "source": [
        "import networkx as nx\nimport matplotlib.pyplot as plt\nimport random\n\nG = nx.Graph()\n\nnodes = [\"p{}\".format(i) for i in range(1,21)]\n\nfor n in nodes:\n    G.add_node(n)\n\n    if len(G.nodes())>1:\n        pop = [i for i in G.nodes() if i!=n]\n        sample = random.sample(pop, random.randint(1,len(pop)))\n\n        for t in sample:\n            G.add_edge(n,t)\n\n\nprint(G.nodes(), G.edges())\nnx.draw(G)\nplt.show()\n\nplt.figure()\ndist=nx.degree(G).values()\nplt.hist(list(dist))"
      ],
      "metadata": {
        "collapsed": false
      },
      "outputs": [],
      "cell_type": "code",
      "execution_count": null
    }
  ]
}