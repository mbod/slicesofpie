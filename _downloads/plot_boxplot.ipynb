{
  "nbformat": 4,
  "metadata": {
    "kernelspec": {
      "name": "python3",
      "language": "python",
      "display_name": "Python 3"
    },
    "language_info": {
      "name": "python",
      "codemirror_mode": {
        "name": "ipython",
        "version": 3
      },
      "mimetype": "text/x-python",
      "pygments_lexer": "ipython3",
      "version": "3.4.4",
      "nbconvert_exporter": "python",
      "file_extension": ".py"
    }
  },
  "cells": [
    {
      "execution_count": null,
      "source": [
        "%matplotlib inline"
      ],
      "cell_type": "code",
      "outputs": [],
      "metadata": {
        "collapsed": false
      }
    },
    {
      "metadata": {},
      "source": [
        "\n\nBoxplot example\n===============\n\n\n"
      ],
      "cell_type": "markdown"
    },
    {
      "execution_count": null,
      "source": [
        "import pandas as pd\nimport seaborn as sns\nimport numpy as np\n\nconds = ['A','B','C','D','E','F','G']\n\ndata = [np.random.random_integers(0,100,100).tolist() for cond in conds]\n\ndata_df = pd.DataFrame(data)\ndata_df=data_df.transpose()\ndata_df.columns = conds\n\nsns.boxplot(data_df)"
      ],
      "cell_type": "code",
      "outputs": [],
      "metadata": {
        "collapsed": false
      }
    }
  ],
  "nbformat_minor": 0
}