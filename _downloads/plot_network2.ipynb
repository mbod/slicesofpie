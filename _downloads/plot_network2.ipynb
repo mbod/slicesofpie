{
  "metadata": {
    "kernelspec": {
      "name": "python3",
      "display_name": "Python 3",
      "language": "python"
    },
    "language_info": {
      "version": "3.4.4",
      "mimetype": "text/x-python",
      "pygments_lexer": "ipython3",
      "name": "python",
      "codemirror_mode": {
        "name": "ipython",
        "version": 3
      },
      "nbconvert_exporter": "python",
      "file_extension": ".py"
    }
  },
  "nbformat_minor": 0,
  "nbformat": 4,
  "cells": [
    {
      "metadata": {
        "collapsed": false
      },
      "outputs": [],
      "cell_type": "code",
      "source": [
        "%matplotlib inline"
      ],
      "execution_count": null
    },
    {
      "metadata": {},
      "cell_type": "markdown",
      "source": [
        "\n\nScale-free networks\n===================\n\n\n"
      ]
    },
    {
      "metadata": {
        "collapsed": false
      },
      "outputs": [],
      "cell_type": "code",
      "source": [
        "import networkx as nx\nimport matplotlib.pyplot as plt\nimport random\n\n\n\nfor n in range(20):\n    G = nx.barabasi_albert_graph(20,1)\n\n    plt.subplot(5,4,n+1)\n    nx.draw(G, node_size=5)\n\n\nplt.show()"
      ],
      "execution_count": null
    }
  ]
}