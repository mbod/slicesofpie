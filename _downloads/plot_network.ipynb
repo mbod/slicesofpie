{
  "nbformat_minor": 0, 
  "nbformat": 4, 
  "cells": [
    {
      "execution_count": null, 
      "cell_type": "code", 
      "source": [
        "%matplotlib inline"
      ], 
      "outputs": [], 
      "metadata": {
        "collapsed": false
      }
    }, 
    {
      "source": [
        "\nBasic network using networkx\n============================\n\n\n\n"
      ], 
      "cell_type": "markdown", 
      "metadata": {}
    }, 
    {
      "execution_count": null, 
      "cell_type": "code", 
      "source": [
        "import networkx as nx\nimport matplotlib.pyplot as plt\nimport random\n\nG = nx.Graph()\n\nnodes = [\"p{}\".format(i) for i in range(1,21)]\n\nfor n in nodes:\n    G.add_node(n)\n\n    if len(G.nodes())>1:\n        pop = [i for i in G.nodes() if i!=n]\n        sample = random.sample(pop, random.randint(1,len(pop)))\n\n        for t in sample:\n            G.add_edge(n,t)\n\n\nprint(G.nodes(), G.edges())\nnx.draw(G)\nplt.show()\n\nplt.figure()\ndist=nx.degree(G).values()\nplt.hist(list(dist))"
      ], 
      "outputs": [], 
      "metadata": {
        "collapsed": false
      }
    }
  ], 
  "metadata": {
    "kernelspec": {
      "display_name": "Python 2", 
      "name": "python2", 
      "language": "python"
    }, 
    "language_info": {
      "mimetype": "text/x-python", 
      "nbconvert_exporter": "python", 
      "name": "python", 
      "file_extension": ".py", 
      "version": "2.7.12", 
      "pygments_lexer": "ipython2", 
      "codemirror_mode": {
        "version": 2, 
        "name": "ipython"
      }
    }
  }
}